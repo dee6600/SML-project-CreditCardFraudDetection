{
 "cells": [
  {
   "cell_type": "code",
   "execution_count": 774,
   "id": "61f79263",
   "metadata": {},
   "outputs": [],
   "source": [
    "import numpy as np\n",
    "import pandas as pd\n",
    "import os\n",
    "import seaborn as sns\n",
    "from sklearn.preprocessing import StandardScaler\n",
    "from keras.models import Sequential\n",
    "from keras.layers import Dense\n",
    "from keras.optimizers import Adam, SGD, RMSprop, Adagrad, Adadelta, Adamax, Nadam\n",
    "from keras.callbacks import ReduceLROnPlateau, EarlyStopping\n",
    "from sklearn.metrics import average_precision_score, confusion_matrix\n",
    "import matplotlib.pyplot as plt\n",
    "import tensorflow as tf\n",
    "import datetime\n"
   ]
  },
  {
   "cell_type": "code",
   "execution_count": 775,
   "id": "f116f4c5",
   "metadata": {},
   "outputs": [
    {
     "name": "stdout",
     "output_type": "stream",
     "text": [
      "   SK_ID_CURR  TARGET NAME_CONTRACT_TYPE CODE_GENDER FLAG_OWN_CAR  \\\n",
      "0      100002       1         Cash loans           M            N   \n",
      "1      100003       0         Cash loans           F            N   \n",
      "2      100004       0    Revolving loans           M            Y   \n",
      "3      100006       0         Cash loans           F            N   \n",
      "4      100007       0         Cash loans           M            N   \n",
      "\n",
      "  FLAG_OWN_REALTY  CNT_CHILDREN  AMT_INCOME_TOTAL  AMT_CREDIT  AMT_ANNUITY  \\\n",
      "0               Y             0          202500.0    406597.5      24700.5   \n",
      "1               N             0          270000.0   1293502.5      35698.5   \n",
      "2               Y             0           67500.0    135000.0       6750.0   \n",
      "3               Y             0          135000.0    312682.5      29686.5   \n",
      "4               Y             0          121500.0    513000.0      21865.5   \n",
      "\n",
      "   ...  FLAG_DOCUMENT_18 FLAG_DOCUMENT_19 FLAG_DOCUMENT_20 FLAG_DOCUMENT_21  \\\n",
      "0  ...                 0                0                0                0   \n",
      "1  ...                 0                0                0                0   \n",
      "2  ...                 0                0                0                0   \n",
      "3  ...                 0                0                0                0   \n",
      "4  ...                 0                0                0                0   \n",
      "\n",
      "  AMT_REQ_CREDIT_BUREAU_HOUR AMT_REQ_CREDIT_BUREAU_DAY  \\\n",
      "0                        0.0                       0.0   \n",
      "1                        0.0                       0.0   \n",
      "2                        0.0                       0.0   \n",
      "3                        NaN                       NaN   \n",
      "4                        0.0                       0.0   \n",
      "\n",
      "   AMT_REQ_CREDIT_BUREAU_WEEK  AMT_REQ_CREDIT_BUREAU_MON  \\\n",
      "0                         0.0                        0.0   \n",
      "1                         0.0                        0.0   \n",
      "2                         0.0                        0.0   \n",
      "3                         NaN                        NaN   \n",
      "4                         0.0                        0.0   \n",
      "\n",
      "   AMT_REQ_CREDIT_BUREAU_QRT  AMT_REQ_CREDIT_BUREAU_YEAR  \n",
      "0                        0.0                         1.0  \n",
      "1                        0.0                         0.0  \n",
      "2                        0.0                         0.0  \n",
      "3                        NaN                         NaN  \n",
      "4                        0.0                         0.0  \n",
      "\n",
      "[5 rows x 122 columns]\n",
      "          SK_ID_CURR         TARGET   CNT_CHILDREN  AMT_INCOME_TOTAL  \\\n",
      "count  307511.000000  307511.000000  307511.000000      3.075110e+05   \n",
      "mean   278180.518577       0.080729       0.417052      1.687979e+05   \n",
      "std    102790.175348       0.272419       0.722121      2.371231e+05   \n",
      "min    100002.000000       0.000000       0.000000      2.565000e+04   \n",
      "25%    189145.500000       0.000000       0.000000      1.125000e+05   \n",
      "50%    278202.000000       0.000000       0.000000      1.471500e+05   \n",
      "75%    367142.500000       0.000000       1.000000      2.025000e+05   \n",
      "max    456255.000000       1.000000      19.000000      1.170000e+08   \n",
      "\n",
      "         AMT_CREDIT    AMT_ANNUITY  AMT_GOODS_PRICE  \\\n",
      "count  3.075110e+05  307499.000000     3.072330e+05   \n",
      "mean   5.990260e+05   27108.573909     5.383962e+05   \n",
      "std    4.024908e+05   14493.737315     3.694465e+05   \n",
      "min    4.500000e+04    1615.500000     4.050000e+04   \n",
      "25%    2.700000e+05   16524.000000     2.385000e+05   \n",
      "50%    5.135310e+05   24903.000000     4.500000e+05   \n",
      "75%    8.086500e+05   34596.000000     6.795000e+05   \n",
      "max    4.050000e+06  258025.500000     4.050000e+06   \n",
      "\n",
      "       REGION_POPULATION_RELATIVE     DAYS_BIRTH  DAYS_EMPLOYED  ...  \\\n",
      "count               307511.000000  307511.000000  307511.000000  ...   \n",
      "mean                     0.020868  -16036.995067   63815.045904  ...   \n",
      "std                      0.013831    4363.988632  141275.766519  ...   \n",
      "min                      0.000290  -25229.000000  -17912.000000  ...   \n",
      "25%                      0.010006  -19682.000000   -2760.000000  ...   \n",
      "50%                      0.018850  -15750.000000   -1213.000000  ...   \n",
      "75%                      0.028663  -12413.000000    -289.000000  ...   \n",
      "max                      0.072508   -7489.000000  365243.000000  ...   \n",
      "\n",
      "       FLAG_DOCUMENT_18  FLAG_DOCUMENT_19  FLAG_DOCUMENT_20  FLAG_DOCUMENT_21  \\\n",
      "count     307511.000000     307511.000000     307511.000000     307511.000000   \n",
      "mean           0.008130          0.000595          0.000507          0.000335   \n",
      "std            0.089798          0.024387          0.022518          0.018299   \n",
      "min            0.000000          0.000000          0.000000          0.000000   \n",
      "25%            0.000000          0.000000          0.000000          0.000000   \n",
      "50%            0.000000          0.000000          0.000000          0.000000   \n",
      "75%            0.000000          0.000000          0.000000          0.000000   \n",
      "max            1.000000          1.000000          1.000000          1.000000   \n",
      "\n",
      "       AMT_REQ_CREDIT_BUREAU_HOUR  AMT_REQ_CREDIT_BUREAU_DAY  \\\n",
      "count               265992.000000              265992.000000   \n",
      "mean                     0.006402                   0.007000   \n",
      "std                      0.083849                   0.110757   \n",
      "min                      0.000000                   0.000000   \n",
      "25%                      0.000000                   0.000000   \n",
      "50%                      0.000000                   0.000000   \n",
      "75%                      0.000000                   0.000000   \n",
      "max                      4.000000                   9.000000   \n",
      "\n",
      "       AMT_REQ_CREDIT_BUREAU_WEEK  AMT_REQ_CREDIT_BUREAU_MON  \\\n",
      "count               265992.000000              265992.000000   \n",
      "mean                     0.034362                   0.267395   \n",
      "std                      0.204685                   0.916002   \n",
      "min                      0.000000                   0.000000   \n",
      "25%                      0.000000                   0.000000   \n",
      "50%                      0.000000                   0.000000   \n",
      "75%                      0.000000                   0.000000   \n",
      "max                      8.000000                  27.000000   \n",
      "\n",
      "       AMT_REQ_CREDIT_BUREAU_QRT  AMT_REQ_CREDIT_BUREAU_YEAR  \n",
      "count              265992.000000               265992.000000  \n",
      "mean                    0.265474                    1.899974  \n",
      "std                     0.794056                    1.869295  \n",
      "min                     0.000000                    0.000000  \n",
      "25%                     0.000000                    0.000000  \n",
      "50%                     0.000000                    1.000000  \n",
      "75%                     0.000000                    3.000000  \n",
      "max                   261.000000                   25.000000  \n",
      "\n",
      "[8 rows x 106 columns]\n"
     ]
    }
   ],
   "source": [
    "df = pd.read_csv('data/archive/application_data.csv')\n",
    "print(df.head())\n",
    "print(df.describe())"
   ]
  },
  {
   "cell_type": "code",
   "execution_count": 776,
   "id": "a07c68cc",
   "metadata": {},
   "outputs": [],
   "source": [
    "df.drop(['FONDKAPREMONT_MODE', 'HOUSETYPE_MODE',\n",
    "       'WALLSMATERIAL_MODE', 'EMERGENCYSTATE_MODE', 'OBS_30_CNT_SOCIAL_CIRCLE',\n",
    "       'DEF_30_CNT_SOCIAL_CIRCLE', 'OBS_60_CNT_SOCIAL_CIRCLE',\n",
    "       'DEF_60_CNT_SOCIAL_CIRCLE', 'DAYS_LAST_PHONE_CHANGE', 'FLAG_DOCUMENT_2',\n",
    "       'FLAG_DOCUMENT_3', 'FLAG_DOCUMENT_4', 'FLAG_DOCUMENT_5',\n",
    "       'FLAG_DOCUMENT_6', 'FLAG_DOCUMENT_7', 'FLAG_DOCUMENT_8',\n",
    "       'FLAG_DOCUMENT_9', 'FLAG_DOCUMENT_10', 'FLAG_DOCUMENT_11',\n",
    "       'FLAG_DOCUMENT_12', 'FLAG_DOCUMENT_13', 'FLAG_DOCUMENT_14',\n",
    "       'FLAG_DOCUMENT_15', 'FLAG_DOCUMENT_16', 'FLAG_DOCUMENT_17',\n",
    "       'FLAG_DOCUMENT_18', 'FLAG_DOCUMENT_19', 'FLAG_DOCUMENT_20',\n",
    "       'FLAG_DOCUMENT_21', 'AMT_REQ_CREDIT_BUREAU_HOUR','AMT_REQ_CREDIT_BUREAU_DAY', 'AMT_REQ_CREDIT_BUREAU_WEEK',\n",
    "       'AMT_REQ_CREDIT_BUREAU_MON', 'AMT_REQ_CREDIT_BUREAU_QRT',\n",
    "'AMT_REQ_CREDIT_BUREAU_YEAR'],axis=1,inplace=True)"
   ]
  },
  {
   "cell_type": "code",
   "execution_count": 777,
   "id": "c0b295e9",
   "metadata": {},
   "outputs": [],
   "source": [
    "df.drop(['CODE_GENDER','FLAG_OWN_CAR','FLAG_OWN_REALTY','CNT_CHILDREN','NAME_EDUCATION_TYPE','NAME_FAMILY_STATUS',\n",
    "         'NAME_HOUSING_TYPE','REGION_POPULATION_RELATIVE','DAYS_BIRTH','DAYS_EMPLOYED','DAYS_REGISTRATION','DAYS_ID_PUBLISH','OWN_CAR_AGE','FLAG_MOBIL',\n",
    "         'FLAG_EMP_PHONE','FLAG_WORK_PHONE','FLAG_CONT_MOBILE','FLAG_PHONE','FLAG_EMAIL','FLAG_EMAIL','CNT_FAM_MEMBERS','REGION_RATING_CLIENT',\n",
    "         'REGION_RATING_CLIENT_W_CITY','REG_REGION_NOT_LIVE_REGION','REG_REGION_NOT_WORK_REGION','NAME_TYPE_SUITE',\n",
    "         'LIVE_REGION_NOT_WORK_REGION','REG_CITY_NOT_LIVE_CITY','REG_CITY_NOT_WORK_CITY','LIVE_CITY_NOT_WORK_CITY'],axis=1,inplace=True)"
   ]
  },
  {
   "cell_type": "code",
   "execution_count": 778,
   "id": "b89c2701",
   "metadata": {},
   "outputs": [
    {
     "name": "stdout",
     "output_type": "stream",
     "text": [
      "   SK_ID_CURR  TARGET NAME_CONTRACT_TYPE  AMT_INCOME_TOTAL  AMT_CREDIT  \\\n",
      "0      100002       1         Cash loans          202500.0    406597.5   \n",
      "1      100003       0         Cash loans          270000.0   1293502.5   \n",
      "2      100004       0    Revolving loans           67500.0    135000.0   \n",
      "3      100006       0         Cash loans          135000.0    312682.5   \n",
      "4      100007       0         Cash loans          121500.0    513000.0   \n",
      "\n",
      "   AMT_ANNUITY  AMT_GOODS_PRICE NAME_INCOME_TYPE OCCUPATION_TYPE  \\\n",
      "0      24700.5         351000.0          Working        Laborers   \n",
      "1      35698.5        1129500.0    State servant      Core staff   \n",
      "2       6750.0         135000.0          Working        Laborers   \n",
      "3      29686.5         297000.0          Working        Laborers   \n",
      "4      21865.5         513000.0          Working      Core staff   \n",
      "\n",
      "  WEEKDAY_APPR_PROCESS_START  ...  ELEVATORS_MEDI ENTRANCES_MEDI  \\\n",
      "0                  WEDNESDAY  ...            0.00         0.0690   \n",
      "1                     MONDAY  ...            0.08         0.0345   \n",
      "2                     MONDAY  ...             NaN            NaN   \n",
      "3                  WEDNESDAY  ...             NaN            NaN   \n",
      "4                   THURSDAY  ...             NaN            NaN   \n",
      "\n",
      "   FLOORSMAX_MEDI  FLOORSMIN_MEDI  LANDAREA_MEDI  LIVINGAPARTMENTS_MEDI  \\\n",
      "0          0.0833          0.1250         0.0375                 0.0205   \n",
      "1          0.2917          0.3333         0.0132                 0.0787   \n",
      "2             NaN             NaN            NaN                    NaN   \n",
      "3             NaN             NaN            NaN                    NaN   \n",
      "4             NaN             NaN            NaN                    NaN   \n",
      "\n",
      "   LIVINGAREA_MEDI  NONLIVINGAPARTMENTS_MEDI  NONLIVINGAREA_MEDI  \\\n",
      "0           0.0193                    0.0000                0.00   \n",
      "1           0.0558                    0.0039                0.01   \n",
      "2              NaN                       NaN                 NaN   \n",
      "3              NaN                       NaN                 NaN   \n",
      "4              NaN                       NaN                 NaN   \n",
      "\n",
      "   TOTALAREA_MODE  \n",
      "0          0.0149  \n",
      "1          0.0714  \n",
      "2             NaN  \n",
      "3             NaN  \n",
      "4             NaN  \n",
      "\n",
      "[5 rows x 58 columns]\n"
     ]
    }
   ],
   "source": [
    "print(df.head())"
   ]
  },
  {
   "cell_type": "code",
   "execution_count": 779,
   "id": "f9537338",
   "metadata": {},
   "outputs": [
    {
     "data": {
      "text/html": [
       "<div>\n",
       "<style scoped>\n",
       "    .dataframe tbody tr th:only-of-type {\n",
       "        vertical-align: middle;\n",
       "    }\n",
       "\n",
       "    .dataframe tbody tr th {\n",
       "        vertical-align: top;\n",
       "    }\n",
       "\n",
       "    .dataframe thead th {\n",
       "        text-align: right;\n",
       "    }\n",
       "</style>\n",
       "<table border=\"1\" class=\"dataframe\">\n",
       "  <thead>\n",
       "    <tr style=\"text-align: right;\">\n",
       "      <th></th>\n",
       "      <th>SK_ID_CURR</th>\n",
       "      <th>TARGET</th>\n",
       "      <th>NAME_CONTRACT_TYPE</th>\n",
       "      <th>AMT_INCOME_TOTAL</th>\n",
       "      <th>AMT_CREDIT</th>\n",
       "      <th>AMT_ANNUITY</th>\n",
       "      <th>AMT_GOODS_PRICE</th>\n",
       "      <th>NAME_INCOME_TYPE</th>\n",
       "      <th>OCCUPATION_TYPE</th>\n",
       "      <th>WEEKDAY_APPR_PROCESS_START</th>\n",
       "      <th>...</th>\n",
       "      <th>ELEVATORS_MEDI</th>\n",
       "      <th>ENTRANCES_MEDI</th>\n",
       "      <th>FLOORSMAX_MEDI</th>\n",
       "      <th>FLOORSMIN_MEDI</th>\n",
       "      <th>LANDAREA_MEDI</th>\n",
       "      <th>LIVINGAPARTMENTS_MEDI</th>\n",
       "      <th>LIVINGAREA_MEDI</th>\n",
       "      <th>NONLIVINGAPARTMENTS_MEDI</th>\n",
       "      <th>NONLIVINGAREA_MEDI</th>\n",
       "      <th>TOTALAREA_MODE</th>\n",
       "    </tr>\n",
       "  </thead>\n",
       "  <tbody>\n",
       "    <tr>\n",
       "      <th>307506</th>\n",
       "      <td>456251</td>\n",
       "      <td>0</td>\n",
       "      <td>Cash loans</td>\n",
       "      <td>157500.0</td>\n",
       "      <td>254700.0</td>\n",
       "      <td>27558.0</td>\n",
       "      <td>225000.0</td>\n",
       "      <td>Working</td>\n",
       "      <td>Sales staff</td>\n",
       "      <td>THURSDAY</td>\n",
       "      <td>...</td>\n",
       "      <td>0.22</td>\n",
       "      <td>0.1034</td>\n",
       "      <td>0.6042</td>\n",
       "      <td>0.2708</td>\n",
       "      <td>0.0605</td>\n",
       "      <td>0.1509</td>\n",
       "      <td>0.2001</td>\n",
       "      <td>0.0757</td>\n",
       "      <td>0.1118</td>\n",
       "      <td>0.2898</td>\n",
       "    </tr>\n",
       "    <tr>\n",
       "      <th>307507</th>\n",
       "      <td>456252</td>\n",
       "      <td>0</td>\n",
       "      <td>Cash loans</td>\n",
       "      <td>72000.0</td>\n",
       "      <td>269550.0</td>\n",
       "      <td>12001.5</td>\n",
       "      <td>225000.0</td>\n",
       "      <td>Pensioner</td>\n",
       "      <td>NaN</td>\n",
       "      <td>MONDAY</td>\n",
       "      <td>...</td>\n",
       "      <td>0.00</td>\n",
       "      <td>0.1034</td>\n",
       "      <td>0.0833</td>\n",
       "      <td>0.1250</td>\n",
       "      <td>0.0589</td>\n",
       "      <td>0.0205</td>\n",
       "      <td>0.0261</td>\n",
       "      <td>0.0000</td>\n",
       "      <td>0.0000</td>\n",
       "      <td>0.0214</td>\n",
       "    </tr>\n",
       "    <tr>\n",
       "      <th>307508</th>\n",
       "      <td>456253</td>\n",
       "      <td>0</td>\n",
       "      <td>Cash loans</td>\n",
       "      <td>153000.0</td>\n",
       "      <td>677664.0</td>\n",
       "      <td>29979.0</td>\n",
       "      <td>585000.0</td>\n",
       "      <td>Working</td>\n",
       "      <td>Managers</td>\n",
       "      <td>THURSDAY</td>\n",
       "      <td>...</td>\n",
       "      <td>0.00</td>\n",
       "      <td>0.2069</td>\n",
       "      <td>0.1667</td>\n",
       "      <td>0.2083</td>\n",
       "      <td>NaN</td>\n",
       "      <td>0.0855</td>\n",
       "      <td>0.9445</td>\n",
       "      <td>0.0000</td>\n",
       "      <td>0.0000</td>\n",
       "      <td>0.7970</td>\n",
       "    </tr>\n",
       "    <tr>\n",
       "      <th>307509</th>\n",
       "      <td>456254</td>\n",
       "      <td>1</td>\n",
       "      <td>Cash loans</td>\n",
       "      <td>171000.0</td>\n",
       "      <td>370107.0</td>\n",
       "      <td>20205.0</td>\n",
       "      <td>319500.0</td>\n",
       "      <td>Commercial associate</td>\n",
       "      <td>Laborers</td>\n",
       "      <td>WEDNESDAY</td>\n",
       "      <td>...</td>\n",
       "      <td>NaN</td>\n",
       "      <td>0.0690</td>\n",
       "      <td>0.0417</td>\n",
       "      <td>NaN</td>\n",
       "      <td>NaN</td>\n",
       "      <td>NaN</td>\n",
       "      <td>0.0062</td>\n",
       "      <td>NaN</td>\n",
       "      <td>NaN</td>\n",
       "      <td>0.0086</td>\n",
       "    </tr>\n",
       "    <tr>\n",
       "      <th>307510</th>\n",
       "      <td>456255</td>\n",
       "      <td>0</td>\n",
       "      <td>Cash loans</td>\n",
       "      <td>157500.0</td>\n",
       "      <td>675000.0</td>\n",
       "      <td>49117.5</td>\n",
       "      <td>675000.0</td>\n",
       "      <td>Commercial associate</td>\n",
       "      <td>Laborers</td>\n",
       "      <td>THURSDAY</td>\n",
       "      <td>...</td>\n",
       "      <td>0.08</td>\n",
       "      <td>0.0690</td>\n",
       "      <td>0.3750</td>\n",
       "      <td>NaN</td>\n",
       "      <td>NaN</td>\n",
       "      <td>NaN</td>\n",
       "      <td>0.0805</td>\n",
       "      <td>NaN</td>\n",
       "      <td>0.0000</td>\n",
       "      <td>0.0718</td>\n",
       "    </tr>\n",
       "  </tbody>\n",
       "</table>\n",
       "<p>5 rows × 58 columns</p>\n",
       "</div>"
      ],
      "text/plain": [
       "        SK_ID_CURR  TARGET NAME_CONTRACT_TYPE  AMT_INCOME_TOTAL  AMT_CREDIT  \\\n",
       "307506      456251       0         Cash loans          157500.0    254700.0   \n",
       "307507      456252       0         Cash loans           72000.0    269550.0   \n",
       "307508      456253       0         Cash loans          153000.0    677664.0   \n",
       "307509      456254       1         Cash loans          171000.0    370107.0   \n",
       "307510      456255       0         Cash loans          157500.0    675000.0   \n",
       "\n",
       "        AMT_ANNUITY  AMT_GOODS_PRICE      NAME_INCOME_TYPE OCCUPATION_TYPE  \\\n",
       "307506      27558.0         225000.0               Working     Sales staff   \n",
       "307507      12001.5         225000.0             Pensioner             NaN   \n",
       "307508      29979.0         585000.0               Working        Managers   \n",
       "307509      20205.0         319500.0  Commercial associate        Laborers   \n",
       "307510      49117.5         675000.0  Commercial associate        Laborers   \n",
       "\n",
       "       WEEKDAY_APPR_PROCESS_START  ...  ELEVATORS_MEDI ENTRANCES_MEDI  \\\n",
       "307506                   THURSDAY  ...            0.22         0.1034   \n",
       "307507                     MONDAY  ...            0.00         0.1034   \n",
       "307508                   THURSDAY  ...            0.00         0.2069   \n",
       "307509                  WEDNESDAY  ...             NaN         0.0690   \n",
       "307510                   THURSDAY  ...            0.08         0.0690   \n",
       "\n",
       "        FLOORSMAX_MEDI  FLOORSMIN_MEDI  LANDAREA_MEDI  LIVINGAPARTMENTS_MEDI  \\\n",
       "307506          0.6042          0.2708         0.0605                 0.1509   \n",
       "307507          0.0833          0.1250         0.0589                 0.0205   \n",
       "307508          0.1667          0.2083            NaN                 0.0855   \n",
       "307509          0.0417             NaN            NaN                    NaN   \n",
       "307510          0.3750             NaN            NaN                    NaN   \n",
       "\n",
       "        LIVINGAREA_MEDI  NONLIVINGAPARTMENTS_MEDI  NONLIVINGAREA_MEDI  \\\n",
       "307506           0.2001                    0.0757              0.1118   \n",
       "307507           0.0261                    0.0000              0.0000   \n",
       "307508           0.9445                    0.0000              0.0000   \n",
       "307509           0.0062                       NaN                 NaN   \n",
       "307510           0.0805                       NaN              0.0000   \n",
       "\n",
       "        TOTALAREA_MODE  \n",
       "307506          0.2898  \n",
       "307507          0.0214  \n",
       "307508          0.7970  \n",
       "307509          0.0086  \n",
       "307510          0.0718  \n",
       "\n",
       "[5 rows x 58 columns]"
      ]
     },
     "execution_count": 779,
     "metadata": {},
     "output_type": "execute_result"
    }
   ],
   "source": [
    "df.tail()"
   ]
  },
  {
   "cell_type": "code",
   "execution_count": 780,
   "id": "da362ac4",
   "metadata": {},
   "outputs": [],
   "source": [
    "df.drop(['EXT_SOURCE_1', 'EXT_SOURCE_2', 'EXT_SOURCE_3', 'APARTMENTS_AVG',\n",
    "       'BASEMENTAREA_AVG', 'YEARS_BEGINEXPLUATATION_AVG', 'YEARS_BUILD_AVG',\n",
    "       'COMMONAREA_AVG', 'ELEVATORS_AVG', 'ENTRANCES_AVG', 'FLOORSMAX_AVG',\n",
    "       'FLOORSMIN_AVG', 'LANDAREA_AVG', 'LIVINGAPARTMENTS_AVG','NAME_CONTRACT_TYPE',\n",
    "       'LIVINGAREA_AVG', 'NONLIVINGAPARTMENTS_AVG', 'NONLIVINGAREA_AVG',\n",
    "       'APARTMENTS_MODE', 'BASEMENTAREA_MODE', 'YEARS_BEGINEXPLUATATION_MODE',\n",
    "       'YEARS_BUILD_MODE', 'COMMONAREA_MODE', 'ELEVATORS_MODE','WEEKDAY_APPR_PROCESS_START',\n",
    "       'ENTRANCES_MODE', 'FLOORSMAX_MODE', 'FLOORSMIN_MODE', 'LANDAREA_MODE',\n",
    "       'LIVINGAPARTMENTS_MODE', 'LIVINGAREA_MODE', 'NONLIVINGAPARTMENTS_MODE',\n",
    "       'NONLIVINGAREA_MODE', 'APARTMENTS_MEDI', 'BASEMENTAREA_MEDI','OCCUPATION_TYPE',\n",
    "       'YEARS_BEGINEXPLUATATION_MEDI', 'YEARS_BUILD_MEDI', 'COMMONAREA_MEDI',\n",
    "       'ELEVATORS_MEDI', 'ENTRANCES_MEDI', 'FLOORSMAX_MEDI', 'FLOORSMIN_MEDI',\n",
    "       'LANDAREA_MEDI', 'LIVINGAPARTMENTS_MEDI', 'LIVINGAREA_MEDI',\n",
    "       'NONLIVINGAPARTMENTS_MEDI', 'NONLIVINGAREA_MEDI', 'TOTALAREA_MODE'],axis=1,inplace=True)"
   ]
  },
  {
   "cell_type": "code",
   "execution_count": 781,
   "id": "38ccbcff",
   "metadata": {},
   "outputs": [
    {
     "name": "stdout",
     "output_type": "stream",
     "text": [
      "Index(['SK_ID_CURR', 'TARGET', 'AMT_INCOME_TOTAL', 'AMT_CREDIT', 'AMT_ANNUITY',\n",
      "       'AMT_GOODS_PRICE', 'NAME_INCOME_TYPE', 'HOUR_APPR_PROCESS_START',\n",
      "       'ORGANIZATION_TYPE'],\n",
      "      dtype='object')\n"
     ]
    }
   ],
   "source": [
    "print(df.columns)"
   ]
  },
  {
   "cell_type": "code",
   "execution_count": 782,
   "id": "172124bc",
   "metadata": {},
   "outputs": [
    {
     "name": "stdout",
     "output_type": "stream",
     "text": [
      "          SK_ID_CURR         TARGET  AMT_INCOME_TOTAL    AMT_CREDIT  \\\n",
      "count  307511.000000  307511.000000      3.075110e+05  3.075110e+05   \n",
      "mean   278180.518577       0.080729      1.687979e+05  5.990260e+05   \n",
      "std    102790.175348       0.272419      2.371231e+05  4.024908e+05   \n",
      "min    100002.000000       0.000000      2.565000e+04  4.500000e+04   \n",
      "25%    189145.500000       0.000000      1.125000e+05  2.700000e+05   \n",
      "50%    278202.000000       0.000000      1.471500e+05  5.135310e+05   \n",
      "75%    367142.500000       0.000000      2.025000e+05  8.086500e+05   \n",
      "max    456255.000000       1.000000      1.170000e+08  4.050000e+06   \n",
      "\n",
      "         AMT_ANNUITY  AMT_GOODS_PRICE  HOUR_APPR_PROCESS_START  \n",
      "count  307499.000000     3.072330e+05            307511.000000  \n",
      "mean    27108.573909     5.383962e+05                12.063419  \n",
      "std     14493.737315     3.694465e+05                 3.265832  \n",
      "min      1615.500000     4.050000e+04                 0.000000  \n",
      "25%     16524.000000     2.385000e+05                10.000000  \n",
      "50%     24903.000000     4.500000e+05                12.000000  \n",
      "75%     34596.000000     6.795000e+05                14.000000  \n",
      "max    258025.500000     4.050000e+06                23.000000  \n"
     ]
    }
   ],
   "source": [
    "print(df.describe())"
   ]
  },
  {
   "cell_type": "code",
   "execution_count": 783,
   "id": "35e13c42",
   "metadata": {},
   "outputs": [
    {
     "data": {
      "text/plain": [
       "<AxesSubplot: ylabel='count'>"
      ]
     },
     "execution_count": 783,
     "metadata": {},
     "output_type": "execute_result"
    },
    {
     "data": {
      "image/png": "[encoded data removed]",
      "text/plain": [
       "<Figure size 640x480 with 1 Axes>"
      ]
     },
     "metadata": {},
     "output_type": "display_data"
    }
   ],
   "source": [
    "sns.countplot(df[\"TARGET\"])"
   ]
  },
  {
   "cell_type": "code",
   "execution_count": 784,
   "id": "0e2f4be3",
   "metadata": {},
   "outputs": [
    {
     "data": {
      "text/plain": [
       "count         9\n",
       "unique        2\n",
       "top       False\n",
       "freq          7\n",
       "dtype: object"
      ]
     },
     "execution_count": 784,
     "metadata": {},
     "output_type": "execute_result"
    }
   ],
   "source": [
    "df.isnull().any().describe()"
   ]
  },
  {
   "cell_type": "code",
   "execution_count": 785,
   "id": "b9997632",
   "metadata": {},
   "outputs": [
    {
     "data": {
      "text/plain": [
       "SK_ID_CURR                   0\n",
       "TARGET                       0\n",
       "AMT_INCOME_TOTAL             0\n",
       "AMT_CREDIT                   0\n",
       "AMT_ANNUITY                 12\n",
       "AMT_GOODS_PRICE            278\n",
       "NAME_INCOME_TYPE             0\n",
       "HOUR_APPR_PROCESS_START      0\n",
       "ORGANIZATION_TYPE            0\n",
       "dtype: int64"
      ]
     },
     "execution_count": 785,
     "metadata": {},
     "output_type": "execute_result"
    }
   ],
   "source": [
    "df.isnull().sum()"
   ]
  },
  {
   "cell_type": "code",
   "execution_count": 786,
   "id": "7fcd0bf4",
   "metadata": {},
   "outputs": [],
   "source": [
    "def missing (df1):\n",
    "    missing_number = df1.isnull().sum().sort_values(ascending=False)\n",
    "    missing_percent = ((df1.isnull().sum()/df1.isnull().count())*100).sort_values(ascending=False)\n",
    "    missing_values = pd.concat([missing_number, missing_percent], axis=1, keys=['Missing_Number', 'Missing_Percent'])\n",
    "    return missing_values"
   ]
  },
  {
   "cell_type": "code",
   "execution_count": 787,
   "id": "c2882ce3",
   "metadata": {},
   "outputs": [],
   "source": [
    "#fill null values with mean,median ,mode\n",
    "for i in df.columns:\n",
    "    if df[i].dtypes == 'object':\n",
    "        df[i].fillna(df[i].mode()[0], inplace=True)\n",
    "    else:\n",
    "        df[i].fillna(df[i].median(), inplace=True)"
   ]
  },
  {
   "cell_type": "code",
   "execution_count": 788,
   "id": "eddb250d",
   "metadata": {},
   "outputs": [
    {
     "data": {
      "text/plain": [
       "SK_ID_CURR                 0\n",
       "TARGET                     0\n",
       "AMT_INCOME_TOTAL           0\n",
       "AMT_CREDIT                 0\n",
       "AMT_ANNUITY                0\n",
       "AMT_GOODS_PRICE            0\n",
       "NAME_INCOME_TYPE           0\n",
       "HOUR_APPR_PROCESS_START    0\n",
       "ORGANIZATION_TYPE          0\n",
       "dtype: int64"
      ]
     },
     "execution_count": 788,
     "metadata": {},
     "output_type": "execute_result"
    }
   ],
   "source": [
    "df.isnull().sum()"
   ]
  },
  {
   "cell_type": "code",
   "execution_count": 789,
   "id": "8d402aa7",
   "metadata": {},
   "outputs": [
    {
     "name": "stdout",
     "output_type": "stream",
     "text": [
      "0          5\n",
      "1         39\n",
      "2         11\n",
      "3          5\n",
      "4         37\n",
      "          ..\n",
      "307506    43\n",
      "307507    57\n",
      "307508    39\n",
      "307509     3\n",
      "307510     5\n",
      "Name: ORGANIZATION_TYPE, Length: 307511, dtype: int64\n",
      "0         7\n",
      "1         4\n",
      "2         7\n",
      "3         7\n",
      "4         7\n",
      "         ..\n",
      "307506    7\n",
      "307507    3\n",
      "307508    7\n",
      "307509    1\n",
      "307510    1\n",
      "Name: NAME_INCOME_TYPE, Length: 307511, dtype: int64\n"
     ]
    }
   ],
   "source": [
    "from sklearn import preprocessing\n",
    "\n",
    "# label_encoder object knows how to understand word labels.\n",
    "label_encoder = preprocessing.LabelEncoder()\n",
    "\n",
    "# Encode labels in column 'species'.\n",
    "df['NAME_INCOME_TYPE']= label_encoder.fit_transform(df['NAME_INCOME_TYPE'])\n",
    "# Encode labels in column 'species'.\n",
    "df['ORGANIZATION_TYPE']= label_encoder.fit_transform(df['ORGANIZATION_TYPE'])\n",
    "\n",
    "print(df['ORGANIZATION_TYPE'])\n",
    "\n",
    "print(df['NAME_INCOME_TYPE'])"
   ]
  },
  {
   "cell_type": "code",
   "execution_count": 790,
   "id": "592ccf53",
   "metadata": {},
   "outputs": [],
   "source": [
    "limit = int(0.9*len(df))\n",
    "train = df.loc[:limit]\n",
    "val_test = df.loc[limit:]\n",
    "val_test.reset_index(drop=True, inplace=True)\n",
    "val_test_limit = int(0.5*len(val_test))\n",
    "val = val_test.loc[:val_test_limit]\n",
    "test = val_test.loc[val_test_limit:]"
   ]
  },
  {
   "cell_type": "code",
   "execution_count": 791,
   "id": "35ced097",
   "metadata": {},
   "outputs": [
    {
     "name": "stdout",
     "output_type": "stream",
     "text": [
      "Number of fraudulent transactions in the validation set: 1217\n",
      "Number of fraudulent transactions in the test set: 1215\n"
     ]
    }
   ],
   "source": [
    "print(\"Number of fraudulent transactions in the validation set: {}\".format(val[\"TARGET\"].value_counts()[1]))\n",
    "print(\"Number of fraudulent transactions in the test set: {}\".format(test[\"TARGET\"].value_counts()[1]))"
   ]
  },
  {
   "cell_type": "code",
   "execution_count": 792,
   "id": "22a57d5f",
   "metadata": {},
   "outputs": [
    {
     "name": "stderr",
     "output_type": "stream",
     "text": [
      "/var/folders/l3/t92rj5x933jb95x9vpj5hs040000gn/T/ipykernel_10455/2933911752.py:6: FutureWarning: The frame.append method is deprecated and will be removed from pandas in a future version. Use pandas.concat instead.\n",
      "  train_extended = train.append(train_positive, ignore_index=True)\n"
     ]
    }
   ],
   "source": [
    "train_positive = train[train[\"TARGET\"] == 1]\n",
    "train_positive = pd.concat([train_positive] * int(len(train) / len(train_positive)), ignore_index=True)\n",
    "noise = np.random.uniform(0.9, 1.1, train_positive.shape)\n",
    "train_positive = train_positive.multiply(noise)\n",
    "train_positive[\"TARGET\"] = 1\n",
    "train_extended = train.append(train_positive, ignore_index=True)\n",
    "train_shuffled = train_extended.sample(frac=1, random_state=0).reset_index(drop=True)"
   ]
  },
  {
   "cell_type": "code",
   "execution_count": 793,
   "id": "223639bf",
   "metadata": {},
   "outputs": [
    {
     "data": {
      "text/plain": [
       "<AxesSubplot: ylabel='count'>"
      ]
     },
     "execution_count": 793,
     "metadata": {},
     "output_type": "execute_result"
    },
    {
     "data": {
      "image/png": "[encoded data removed]",
      "text/plain": [
       "<Figure size 640x480 with 1 Axes>"
      ]
     },
     "metadata": {},
     "output_type": "display_data"
    }
   ],
   "source": [
    "sns.countplot(train_shuffled[\"TARGET\"])"
   ]
  },
  {
   "cell_type": "code",
   "execution_count": 794,
   "id": "527fe445",
   "metadata": {},
   "outputs": [],
   "source": [
    "X_train = train_shuffled.drop(labels=[\"TARGET\"], axis=1)\n",
    "Y_train = train_shuffled[\"TARGET\"]\n",
    "X_val = val.drop(labels=[\"TARGET\"], axis=1)\n",
    "Y_val = val[\"TARGET\"]\n",
    "X_test = test.drop(labels=[\"TARGET\"], axis=1)\n",
    "Y_test = test[\"TARGET\"]"
   ]
  },
  {
   "cell_type": "code",
   "execution_count": 795,
   "id": "81dd1a66",
   "metadata": {},
   "outputs": [],
   "source": [
    "scaler = StandardScaler()\n",
    "X_train[X_train.columns] = scaler.fit_transform(X_train)\n",
    "X_val[X_val.columns] = scaler.transform(X_val)\n",
    "X_test[X_test.columns] = scaler.transform(X_test)"
   ]
  },
  {
   "cell_type": "code",
   "execution_count": 796,
   "id": "4e083ffb",
   "metadata": {},
   "outputs": [
    {
     "data": {
      "text/plain": [
       "(15376, 8)"
      ]
     },
     "execution_count": 796,
     "metadata": {},
     "output_type": "execute_result"
    }
   ],
   "source": [
    "X_train.shape\n",
    "X_test.shape"
   ]
  },
  {
   "cell_type": "code",
   "execution_count": 797,
   "id": "5454e22a",
   "metadata": {},
   "outputs": [
    {
     "name": "stdout",
     "output_type": "stream",
     "text": [
      "Model: \"sequential_28\"\n",
      "_________________________________________________________________\n",
      " Layer (type)                Output Shape              Param #   \n",
      "=================================================================\n",
      " dense_170 (Dense)           (None, 1024)              9216      \n",
      "                                                                 \n",
      " dense_171 (Dense)           (None, 128)               131200    \n",
      "                                                                 \n",
      " dense_172 (Dense)           (None, 64)                8256      \n",
      "                                                                 \n",
      " dense_173 (Dense)           (None, 32)                2080      \n",
      "                                                                 \n",
      " dense_174 (Dense)           (None, 16)                528       \n",
      "                                                                 \n",
      " dense_175 (Dense)           (None, 8)                 136       \n",
      "                                                                 \n",
      " dense_176 (Dense)           (None, 1)                 9         \n",
      "                                                                 \n",
      "=================================================================\n",
      "Total params: 151,425\n",
      "Trainable params: 151,425\n",
      "Non-trainable params: 0\n",
      "_________________________________________________________________\n"
     ]
    }
   ],
   "source": [
    "# model = Sequential()\n",
    "# model.add(Dense(64, activation=\"relu\", input_dim=(X_train.shape[1])))\n",
    "# model.add(Dense(32, activation=\"relu\"))\n",
    "# model.add(Dense(16, activation=\"relu\"))\n",
    "# model.add(Dense(8, activation=\"relu\"))\n",
    "# model.add(Dense(4, activation=\"relu\"))\n",
    "# model.add(Dense(2, activation=\"relu\"))\n",
    "# model.add(Dense(1, activation=\"sigmoid\"))\n",
    "# model.compile(optimizer=Adam(lr=1e-4), loss=\"binary_crossentropy\", metrics=[\"accuracy\"])\n",
    "# model.summary()\n",
    "# history = model.fit(X_train, \n",
    "#                     Y_train, \n",
    "#                     epochs=50, \n",
    "#                     validation_data=(X_val, Y_val), \n",
    "#                     callbacks=[ReduceLROnPlateau(patience=3, verbose=1, min_lr=1e-6)])\n",
    "\n",
    "model = Sequential()\n",
    "model.add(Dense(1024, activation=\"relu\", input_dim=(X_train.shape[1])))\n",
    "model.add(Dense(128, activation=\"relu\"))\n",
    "model.add(Dense(64, activation=\"relu\"))\n",
    "model.add(Dense(32, activation=\"relu\"))\n",
    "model.add(Dense(16, activation=\"relu\"))\n",
    "model.add(Dense(8, activation=\"relu\"))\n",
    "model.add(Dense(1, activation=\"sigmoid\"))\n",
    "model.compile(optimizer=Adam(0.0003), loss=\"binary_crossentropy\", metrics=[\"accuracy\"])\n",
    "model.summary()\n",
    "\n"
   ]
  },
  {
   "cell_type": "code",
   "execution_count": 798,
   "id": "581a2bb9",
   "metadata": {},
   "outputs": [],
   "source": [
    "#tensorboard\n",
    "log_dir = \"logs/fit/\" + datetime.datetime.now().strftime(\"%Y%m%d-%H%M%S\")\n",
    "tensorboard_callback = tf.keras.callbacks.TensorBoard(log_dir=log_dir, histogram_freq=1)\n",
    "\n"
   ]
  },
  {
   "cell_type": "code",
   "execution_count": 799,
   "id": "e0b038b8",
   "metadata": {},
   "outputs": [
    {
     "name": "stdout",
     "output_type": "stream",
     "text": [
      "Epoch 1/50\n"
     ]
    },
    {
     "name": "stderr",
     "output_type": "stream",
     "text": [
      "2022-11-16 12:03:54.832244: I tensorflow/core/grappler/optimizers/custom_graph_optimizer_registry.cc:114] Plugin optimizer for device_type GPU is enabled.\n"
     ]
    },
    {
     "name": "stdout",
     "output_type": "stream",
     "text": [
      "67/67 [==============================] - ETA: 0s - loss: 0.6890 - accuracy: 0.5565"
     ]
    },
    {
     "name": "stderr",
     "output_type": "stream",
     "text": [
      "2022-11-16 12:03:58.658778: I tensorflow/core/grappler/optimizers/custom_graph_optimizer_registry.cc:114] Plugin optimizer for device_type GPU is enabled.\n"
     ]
    },
    {
     "name": "stdout",
     "output_type": "stream",
     "text": [
      "67/67 [==============================] - 5s 46ms/step - loss: 0.6890 - accuracy: 0.5565 - val_loss: 0.6736 - val_accuracy: 0.3996\n",
      "Epoch 2/50\n",
      "67/67 [==============================] - 2s 30ms/step - loss: 0.6800 - accuracy: 0.5834 - val_loss: 0.7002 - val_accuracy: 0.4440\n",
      "Epoch 3/50\n",
      "67/67 [==============================] - 1s 19ms/step - loss: 0.6667 - accuracy: 0.5935 - val_loss: 0.7175 - val_accuracy: 0.4328\n",
      "Epoch 4/50\n",
      "67/67 [==============================] - 1s 19ms/step - loss: 0.6520 - accuracy: 0.6107 - val_loss: 0.6649 - val_accuracy: 0.5197\n",
      "Epoch 5/50\n",
      "67/67 [==============================] - 1s 22ms/step - loss: 0.6302 - accuracy: 0.6347 - val_loss: 0.6841 - val_accuracy: 0.5029\n",
      "Epoch 6/50\n",
      "67/67 [==============================] - 1s 20ms/step - loss: 0.5959 - accuracy: 0.6695 - val_loss: 0.6393 - val_accuracy: 0.5911\n",
      "Epoch 7/50\n",
      "67/67 [==============================] - 1s 19ms/step - loss: 0.5469 - accuracy: 0.7067 - val_loss: 0.6643 - val_accuracy: 0.5532\n",
      "Epoch 8/50\n",
      "67/67 [==============================] - 1s 21ms/step - loss: 0.4859 - accuracy: 0.7553 - val_loss: 0.5372 - val_accuracy: 0.7300\n",
      "Epoch 9/50\n",
      "67/67 [==============================] - 1s 20ms/step - loss: 0.4303 - accuracy: 0.7924 - val_loss: 0.5707 - val_accuracy: 0.7057\n",
      "Epoch 10/50\n",
      "67/67 [==============================] - 1s 19ms/step - loss: 0.4028 - accuracy: 0.8052 - val_loss: 0.4647 - val_accuracy: 0.8050\n",
      "Epoch 11/50\n",
      "67/67 [==============================] - 1s 18ms/step - loss: 0.3827 - accuracy: 0.8157 - val_loss: 0.5158 - val_accuracy: 0.7160\n",
      "Epoch 12/50\n",
      "67/67 [==============================] - 1s 17ms/step - loss: 0.3722 - accuracy: 0.8207 - val_loss: 0.4418 - val_accuracy: 0.8039\n",
      "Epoch 13/50\n",
      "67/67 [==============================] - 1s 17ms/step - loss: 0.3651 - accuracy: 0.8241 - val_loss: 0.4389 - val_accuracy: 0.8102\n",
      "Epoch 14/50\n",
      "67/67 [==============================] - 1s 17ms/step - loss: 0.3582 - accuracy: 0.8280 - val_loss: 0.4702 - val_accuracy: 0.7626\n",
      "Epoch 15/50\n",
      "67/67 [==============================] - 1s 17ms/step - loss: 0.3514 - accuracy: 0.8318 - val_loss: 0.5502 - val_accuracy: 0.7317\n",
      "Epoch 16/50\n",
      "67/67 [==============================] - 1s 18ms/step - loss: 0.3449 - accuracy: 0.8356 - val_loss: 0.4440 - val_accuracy: 0.7868\n",
      "Epoch 17/50\n",
      "67/67 [==============================] - 1s 20ms/step - loss: 0.3448 - accuracy: 0.8354 - val_loss: 0.5021 - val_accuracy: 0.7392\n",
      "Epoch 18/50\n",
      "67/67 [==============================] - 1s 18ms/step - loss: 0.3412 - accuracy: 0.8378 - val_loss: 0.4663 - val_accuracy: 0.7834\n",
      "Epoch 19/50\n",
      "67/67 [==============================] - 1s 17ms/step - loss: 0.3358 - accuracy: 0.8408 - val_loss: 0.4795 - val_accuracy: 0.7310\n",
      "Epoch 20/50\n",
      "67/67 [==============================] - 1s 18ms/step - loss: 0.3316 - accuracy: 0.8426 - val_loss: 0.4315 - val_accuracy: 0.7943\n",
      "Epoch 21/50\n",
      "67/67 [==============================] - 1s 18ms/step - loss: 0.3420 - accuracy: 0.8380 - val_loss: 0.4035 - val_accuracy: 0.8437\n",
      "Epoch 22/50\n",
      "67/67 [==============================] - 1s 16ms/step - loss: 0.3253 - accuracy: 0.8468 - val_loss: 0.4791 - val_accuracy: 0.7638\n",
      "Epoch 23/50\n",
      "67/67 [==============================] - 1s 17ms/step - loss: 0.3261 - accuracy: 0.8468 - val_loss: 0.4664 - val_accuracy: 0.8046\n",
      "Epoch 24/50\n",
      "67/67 [==============================] - 1s 17ms/step - loss: 0.3225 - accuracy: 0.8485 - val_loss: 0.4360 - val_accuracy: 0.8098\n",
      "Epoch 25/50\n",
      "67/67 [==============================] - 1s 18ms/step - loss: 0.3222 - accuracy: 0.8493 - val_loss: 0.4122 - val_accuracy: 0.8312\n",
      "Epoch 26/50\n",
      "67/67 [==============================] - 1s 18ms/step - loss: 0.3354 - accuracy: 0.8419 - val_loss: 0.4627 - val_accuracy: 0.7924\n",
      "Epoch 27/50\n",
      "67/67 [==============================] - 1s 18ms/step - loss: 0.3217 - accuracy: 0.8496 - val_loss: 0.4972 - val_accuracy: 0.7487\n",
      "Epoch 28/50\n",
      "67/67 [==============================] - 1s 17ms/step - loss: 0.3166 - accuracy: 0.8526 - val_loss: 0.4022 - val_accuracy: 0.8238\n",
      "Epoch 29/50\n",
      "67/67 [==============================] - 1s 17ms/step - loss: 0.3205 - accuracy: 0.8508 - val_loss: 0.4933 - val_accuracy: 0.7733\n",
      "Epoch 30/50\n",
      "67/67 [==============================] - 1s 17ms/step - loss: 0.3123 - accuracy: 0.8554 - val_loss: 0.3933 - val_accuracy: 0.8423\n",
      "Epoch 31/50\n",
      "67/67 [==============================] - 1s 17ms/step - loss: 0.3177 - accuracy: 0.8530 - val_loss: 0.4513 - val_accuracy: 0.7730\n",
      "Epoch 32/50\n",
      "67/67 [==============================] - 1s 17ms/step - loss: 0.3197 - accuracy: 0.8519 - val_loss: 0.4453 - val_accuracy: 0.7920\n",
      "Epoch 33/50\n",
      "67/67 [==============================] - 1s 17ms/step - loss: 0.3125 - accuracy: 0.8554 - val_loss: 0.3893 - val_accuracy: 0.8530\n",
      "Epoch 34/50\n",
      "67/67 [==============================] - 1s 17ms/step - loss: 0.3132 - accuracy: 0.8562 - val_loss: 0.4367 - val_accuracy: 0.8089\n",
      "Epoch 35/50\n",
      "67/67 [==============================] - 1s 17ms/step - loss: 0.3039 - accuracy: 0.8604 - val_loss: 0.4141 - val_accuracy: 0.8268\n",
      "Epoch 36/50\n",
      "67/67 [==============================] - 1s 16ms/step - loss: 0.3059 - accuracy: 0.8597 - val_loss: 0.4162 - val_accuracy: 0.8258\n",
      "Epoch 37/50\n",
      "67/67 [==============================] - 1s 18ms/step - loss: 0.3142 - accuracy: 0.8561 - val_loss: 0.4759 - val_accuracy: 0.7786\n",
      "Epoch 38/50\n",
      "67/67 [==============================] - 1s 18ms/step - loss: 0.3032 - accuracy: 0.8616 - val_loss: 0.4205 - val_accuracy: 0.8183\n",
      "Epoch 39/50\n",
      "67/67 [==============================] - 1s 17ms/step - loss: 0.2984 - accuracy: 0.8635 - val_loss: 0.4409 - val_accuracy: 0.7888\n",
      "Epoch 40/50\n",
      "67/67 [==============================] - 1s 17ms/step - loss: 0.3018 - accuracy: 0.8620 - val_loss: 0.4139 - val_accuracy: 0.8320\n",
      "Epoch 41/50\n",
      "67/67 [==============================] - 1s 16ms/step - loss: 0.3280 - accuracy: 0.8506 - val_loss: 0.3755 - val_accuracy: 0.8683\n",
      "Epoch 42/50\n",
      "67/67 [==============================] - 1s 17ms/step - loss: 0.3003 - accuracy: 0.8636 - val_loss: 0.4183 - val_accuracy: 0.8315\n",
      "Epoch 43/50\n",
      "67/67 [==============================] - 1s 17ms/step - loss: 0.2933 - accuracy: 0.8668 - val_loss: 0.4133 - val_accuracy: 0.8116\n",
      "Epoch 44/50\n",
      "67/67 [==============================] - 1s 17ms/step - loss: 0.3012 - accuracy: 0.8632 - val_loss: 0.4211 - val_accuracy: 0.8108\n",
      "Epoch 45/50\n",
      "67/67 [==============================] - 1s 17ms/step - loss: 0.2995 - accuracy: 0.8633 - val_loss: 0.4435 - val_accuracy: 0.7818\n",
      "Epoch 46/50\n",
      "67/67 [==============================] - 1s 18ms/step - loss: 0.2935 - accuracy: 0.8668 - val_loss: 0.4500 - val_accuracy: 0.7966\n",
      "Epoch 47/50\n",
      "67/67 [==============================] - 1s 16ms/step - loss: 0.2905 - accuracy: 0.8683 - val_loss: 0.4242 - val_accuracy: 0.7879\n",
      "Epoch 48/50\n",
      "67/67 [==============================] - 1s 17ms/step - loss: 0.3530 - accuracy: 0.8373 - val_loss: 0.4203 - val_accuracy: 0.8301\n",
      "Epoch 49/50\n",
      "67/67 [==============================] - 1s 17ms/step - loss: 0.2955 - accuracy: 0.8659 - val_loss: 0.4187 - val_accuracy: 0.8263\n",
      "Epoch 50/50\n",
      "67/67 [==============================] - 1s 17ms/step - loss: 0.2916 - accuracy: 0.8678 - val_loss: 0.4060 - val_accuracy: 0.8418\n"
     ]
    }
   ],
   "source": [
    "# train\n",
    "history = model.fit(X_train,\n",
    "                    Y_train,\n",
    "                    epochs=50,\n",
    "                    batch_size=8192,\n",
    "                    validation_data=(X_val, Y_val),\n",
    "                    callbacks=[tensorboard_callback])"
   ]
  },
  {
   "cell_type": "code",
   "execution_count": 800,
   "id": "3f8d98ec",
   "metadata": {},
   "outputs": [
    {
     "name": "stdout",
     "output_type": "stream",
     "text": [
      "481/481 [==============================] - 3s 6ms/step - loss: 0.4628 - accuracy: 0.8058\n",
      "The model test accuracy is 0.805801272392273.\n"
     ]
    }
   ],
   "source": [
    "test_results = model.evaluate(X_test, Y_test)\n",
    "print(\"The model test accuracy is {}.\".format(test_results[1]))"
   ]
  },
  {
   "cell_type": "code",
   "execution_count": 801,
   "id": "b0c5445f",
   "metadata": {},
   "outputs": [
    {
     "name": "stdout",
     "output_type": "stream",
     "text": [
      " 37/481 [=>............................] - ETA: 1s"
     ]
    },
    {
     "name": "stderr",
     "output_type": "stream",
     "text": [
      "2022-11-16 12:05:01.826975: I tensorflow/core/grappler/optimizers/custom_graph_optimizer_registry.cc:114] Plugin optimizer for device_type GPU is enabled.\n"
     ]
    },
    {
     "name": "stdout",
     "output_type": "stream",
     "text": [
      "481/481 [==============================] - 1s 3ms/step\n",
      "The model test average precision score is 0.08609540140508419.\n"
     ]
    }
   ],
   "source": [
    "predictions = (model.predict(X_test)>0.5).astype(\"int32\")\n",
    "ap_score = average_precision_score(Y_test, predictions)\n",
    "print(\"The model test average precision score is {}.\".format(ap_score))"
   ]
  },
  {
   "cell_type": "code",
   "execution_count": 802,
   "id": "d2b128a2",
   "metadata": {},
   "outputs": [
    {
     "data": {
      "text/plain": [
       "(array([0.5, 1.5]),\n",
       " [Text(0, 0.5, 'Actual Negative'), Text(0, 1.5, 'Actual Positive')])"
      ]
     },
     "execution_count": 802,
     "metadata": {},
     "output_type": "execute_result"
    },
    {
     "data": {
      "image/png": "[encoded data removed]",
      "text/plain": [
       "<Figure size 640x480 with 2 Axes>"
      ]
     },
     "metadata": {},
     "output_type": "display_data"
    }
   ],
   "source": [
    "confusion = pd.DataFrame(confusion_matrix(Y_test, predictions))\n",
    "confusion.columns = [\"Predicted Negative\", \"Predicted Positive\"]\n",
    "confusion.index = [\"Actual Negative\", \"Actual Positive\"]\n",
    "sns.heatmap(confusion, annot=True)\n",
    "plt.yticks(rotation=0)"
   ]
  },
  {
   "cell_type": "code",
   "execution_count": 803,
   "id": "6fac268c",
   "metadata": {},
   "outputs": [
    {
     "name": "stdout",
     "output_type": "stream",
     "text": [
      "              precision    recall  f1-score   support\n",
      "\n",
      "           0       0.93      0.86      0.89     14161\n",
      "           1       0.11      0.21      0.15      1215\n",
      "\n",
      "    accuracy                           0.81     15376\n",
      "   macro avg       0.52      0.53      0.52     15376\n",
      "weighted avg       0.86      0.81      0.83     15376\n",
      "\n"
     ]
    }
   ],
   "source": [
    "# Classification Report\n",
    "from sklearn.metrics import classification_report\n",
    "print(classification_report(Y_test, predictions))"
   ]
  }
 ],
 "metadata": {
  "kernelspec": {
   "display_name": "Python 3.10.6 ('sml')",
   "language": "python",
   "name": "python3"
  },
  "language_info": {
   "codemirror_mode": {
    "name": "ipython",
    "version": 3
   },
   "file_extension": ".py",
   "mimetype": "text/x-python",
   "name": "python",
   "nbconvert_exporter": "python",
   "pygments_lexer": "ipython3",
   "version": "3.10.6"
  },
  "vscode": {
   "interpreter": {
    "hash": "fb0db9e0402b46eefceae1911d7310368bb69f873412fcfa41cd7912a24c67e7"
   }
  }
 },
 "nbformat": 4,
 "nbformat_minor": 5
}
